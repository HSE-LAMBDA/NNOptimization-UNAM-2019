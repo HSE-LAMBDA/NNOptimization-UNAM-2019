{
  "nbformat": 4,
  "nbformat_minor": 0,
  "metadata": {
    "colab": {
      "name": "3-bayesian_optimization.ipynb",
      "version": "0.3.2",
      "provenance": [],
      "collapsed_sections": []
    },
    "language_info": {
      "codemirror_mode": {
        "name": "ipython",
        "version": 3
      },
      "name": "python",
      "pygments_lexer": "ipython3",
      "version": "3.5.2",
      "mimetype": "text/x-python",
      "file_extension": ".py",
      "nbconvert_exporter": "python"
    },
    "kernelspec": {
      "name": "python3",
      "display_name": "Python 3"
    },
    "accelerator": "GPU"
  },
  "cells": [
    {
      "cell_type": "markdown",
      "metadata": {
        "id": "bwJ8PhXrr5OW",
        "colab_type": "text"
      },
      "source": [
        "# Bayesian optimization with `skopt`\n",
        "\n",
        "(based on scikit-optimize documentation https://scikit-optimize.github.io/notebooks/sklearn-gridsearchcv-replacement.html)"
      ]
    },
    {
      "cell_type": "code",
      "metadata": {
        "id": "6mH_S_RfsRo-",
        "colab_type": "code",
        "outputId": "93d4f520-8024-448c-d3ca-be620e457be5",
        "colab": {
          "base_uri": "https://localhost:8080/",
          "height": 187
        }
      },
      "source": [
        "# sklearn version fixed to avoid known skopt issue\n",
        "!pip install scikit-optimize scikit-learn==0.20.3 "
      ],
      "execution_count": 1,
      "outputs": [
        {
          "output_type": "stream",
          "text": [
            "Collecting scikit-optimize\n",
            "\u001b[?25l  Downloading https://files.pythonhosted.org/packages/f4/44/60f82c97d1caa98752c7da2c1681cab5c7a390a0fdd3a55fac672b321cac/scikit_optimize-0.5.2-py2.py3-none-any.whl (74kB)\n",
            "\u001b[K     |████████████████████████████████| 81kB 28.4MB/s \n",
            "\u001b[?25hRequirement already satisfied: scikit-learn==0.20.3 in /usr/local/lib/python3.6/dist-packages (0.20.3)\n",
            "Requirement already satisfied: scipy>=0.14.0 in /usr/local/lib/python3.6/dist-packages (from scikit-optimize) (1.3.0)\n",
            "Requirement already satisfied: numpy in /usr/local/lib/python3.6/dist-packages (from scikit-optimize) (1.16.4)\n",
            "Installing collected packages: scikit-optimize\n",
            "Successfully installed scikit-optimize-0.5.2\n"
          ],
          "name": "stdout"
        }
      ]
    },
    {
      "cell_type": "code",
      "metadata": {
        "id": "MnKNBiQTr5Oc",
        "colab_type": "code",
        "colab": {}
      },
      "source": [
        "import numpy as np\n",
        "\n",
        "%matplotlib inline\n",
        "import matplotlib.pyplot as plt\n",
        "import pandas as pd\n",
        "from skopt import BayesSearchCV\n",
        "from sklearn.ensemble import RandomForestClassifier\n",
        "from sklearn.model_selection import train_test_split"
      ],
      "execution_count": 0,
      "outputs": []
    },
    {
      "cell_type": "markdown",
      "metadata": {
        "id": "YnkUBtXcww23",
        "colab_type": "text"
      },
      "source": [
        "## Optimising a classifier"
      ]
    },
    {
      "cell_type": "code",
      "metadata": {
        "id": "j5-QBPE_s6pg",
        "colab_type": "code",
        "outputId": "48beac76-e735-4ebd-b41c-d37f8e3055b4",
        "colab": {
          "base_uri": "https://localhost:8080/",
          "height": 75
        }
      },
      "source": [
        "from sklearn.datasets import load_digits\n",
        "X, y = load_digits(10, True)\n",
        "X_train, X_test, y_train, y_test = train_test_split(X, y, train_size=0.75,\n",
        "                                                    random_state=0)"
      ],
      "execution_count": 3,
      "outputs": [
        {
          "output_type": "stream",
          "text": [
            "/usr/local/lib/python3.6/dist-packages/sklearn/model_selection/_split.py:2179: FutureWarning: From version 0.21, test_size will always complement train_size unless both are specified.\n",
            "  FutureWarning)\n"
          ],
          "name": "stderr"
        }
      ]
    },
    {
      "cell_type": "markdown",
      "metadata": {
        "id": "531c3cie1Dxf",
        "colab_type": "text"
      },
      "source": [
        "dimensions for parameters  [list, shape=(n_dims,)]: List of search space dimensions. Each search dimension can be defined either as\n",
        "\n",
        "- a (lower_bound, upper_bound) tuple (for Real or Integer dimensions),\n",
        "- a (lower_bound, upper_bound, prior) tuple (for Real dimensions),\n",
        "- as a list of categories (for Categorical dimensions), or\n",
        "- an instance of a Dimension object (Real, Integer or Categorical)."
      ]
    },
    {
      "cell_type": "code",
      "metadata": {
        "id": "h8UFVdNmyXS9",
        "colab_type": "code",
        "colab": {}
      },
      "source": [
        "param_dist = {\n",
        "    \"max_depth\": (3, 10,),\n",
        "    \"max_features\": (1, 11),\n",
        "    \"min_samples_split\": <YOUR CODE>, # from 2 to 10\n",
        "    \"min_samples_leaf\": <YOUR CODE>, # from 1 to 10\n",
        "    \"bootstrap\": [True, False], # categorical valued parameter\n",
        "    \"criterion\": <YOUR CODE> # either \"gini\" or \"entropy\"\n",
        "   }"
      ],
      "execution_count": 0,
      "outputs": []
    },
    {
      "cell_type": "code",
      "metadata": {
        "id": "KVdB96xzzOcY",
        "colab_type": "code",
        "colab": {}
      },
      "source": [
        "clf = RandomForestClassifier(n_estimators=20)\n",
        "opt = BayesSearchCV(clf, param_dist, n_iter=10, return_train_score=True, cv=3)"
      ],
      "execution_count": 0,
      "outputs": []
    },
    {
      "cell_type": "code",
      "metadata": {
        "id": "Y24slK8AzUG6",
        "colab_type": "code",
        "colab": {}
      },
      "source": [
        "opt.fit(X_train, y_train);"
      ],
      "execution_count": 0,
      "outputs": []
    },
    {
      "cell_type": "code",
      "metadata": {
        "id": "7aY681Q_xiPD",
        "colab_type": "code",
        "colab": {
          "base_uri": "https://localhost:8080/",
          "height": 55
        },
        "outputId": "38d12d49-6e3a-4ab8-e121-fd478c358a64"
      },
      "source": [
        "print(\"val. score: %s\" % opt.best_score_)\n",
        "print(\"test score: %s\" % opt.score(X_test, y_test))"
      ],
      "execution_count": 7,
      "outputs": [
        {
          "output_type": "stream",
          "text": [
            "val. score: 0.9465478841870824\n",
            "test score: 0.9466666666666667\n"
          ],
          "name": "stdout"
        }
      ]
    },
    {
      "cell_type": "code",
      "metadata": {
        "id": "ySuKwUxu1hHh",
        "colab_type": "code",
        "colab": {}
      },
      "source": [
        "# Utility function to report best scores\n",
        "import pandas as pd\n",
        "\n",
        "def report(results, n_top=3):\n",
        "  res = pd.DataFrame(results)\n",
        "  res = res.sort_values(by=['mean_test_score'], ascending=False, axis=0)\n",
        "  res.reset_index(inplace = True, drop=True)\n",
        "#   a = res[['mean_test_score', 'std_test_score']]\n",
        "\n",
        "  for candidate in range(0, n_top):\n",
        "    print(\"Model with rank: {0}\".format(candidate))\n",
        "    print(\"Mean validation score: {0:.3f} (std: {1:.3f})\".format(\n",
        "          res['mean_test_score'][candidate],\n",
        "          res['std_test_score'][candidate]))\n",
        "    print(\"Parameters: {0}\".format(res['params'][candidate]))\n",
        "    print(\"\")"
      ],
      "execution_count": 0,
      "outputs": []
    },
    {
      "cell_type": "code",
      "metadata": {
        "id": "Ip5ROztL1mPp",
        "colab_type": "code",
        "colab": {
          "base_uri": "https://localhost:8080/",
          "height": 261
        },
        "outputId": "3d12931d-0290-44be-ce58-d7fa78d97246"
      },
      "source": [
        "report(opt.cv_results_)"
      ],
      "execution_count": 9,
      "outputs": [
        {
          "output_type": "stream",
          "text": [
            "Model with rank: 0\n",
            "Mean validation score: 0.947 (std: 0.003)\n",
            "Parameters: {'bootstrap': True, 'criterion': 'entropy', 'max_depth': 9, 'max_features': 4, 'min_samples_leaf': 3, 'min_samples_split': 10}\n",
            "\n",
            "Model with rank: 1\n",
            "Mean validation score: 0.944 (std: 0.006)\n",
            "Parameters: {'bootstrap': False, 'criterion': 'entropy', 'max_depth': 8, 'max_features': 3, 'min_samples_leaf': 4, 'min_samples_split': 3}\n",
            "\n",
            "Model with rank: 2\n",
            "Mean validation score: 0.940 (std: 0.005)\n",
            "Parameters: {'bootstrap': True, 'criterion': 'entropy', 'max_depth': 7, 'max_features': 7, 'min_samples_leaf': 8, 'min_samples_split': 10}\n",
            "\n"
          ],
          "name": "stdout"
        }
      ]
    },
    {
      "cell_type": "markdown",
      "metadata": {
        "id": "56dsimIm0KAt",
        "colab_type": "text"
      },
      "source": [
        "## Task\n",
        "Optimise the neural net from the previous notebook via `BayesSearchCV` \n"
      ]
    },
    {
      "cell_type": "code",
      "metadata": {
        "id": "NHyak9rb8NbZ",
        "colab_type": "code",
        "colab": {}
      },
      "source": [
        "import torch\n",
        "from torch import nn\n",
        "import torch.nn.functional as F\n",
        "from skorch import NeuralNetClassifier\n",
        "torch.manual_seed(0);"
      ],
      "execution_count": 0,
      "outputs": []
    },
    {
      "cell_type": "code",
      "metadata": {
        "id": "QyVl7Ii38bEt",
        "colab_type": "code",
        "colab": {}
      },
      "source": [
        "from sklearn.datasets import make_classification\n",
        "X, y = make_classification(1000, 20, n_informative=10, n_classes=2, random_state=0)\n",
        "X = X.astype(np.float32)"
      ],
      "execution_count": 0,
      "outputs": []
    },
    {
      "cell_type": "code",
      "metadata": {
        "id": "EL8NhGT48LMW",
        "colab_type": "code",
        "colab": {}
      },
      "source": [
        "class ClassifierModule(nn.Module):\n",
        "<CODE OF THE CLASSIFIER FROM NOTEBOOK i-1>"
      ],
      "execution_count": 0,
      "outputs": []
    },
    {
      "cell_type": "code",
      "metadata": {
        "id": "LXv7qEAh8iD-",
        "colab_type": "code",
        "colab": {}
      },
      "source": [
        "net = NeuralNetClassifier(\n",
        "    ClassifierModule,\n",
        "    max_epochs=20,\n",
        "    lr=0.1,\n",
        "    device='cuda',  # comment this to train with CPU\n",
        "    optimizer__momentum=0.9,\n",
        "    verbose=0\n",
        ")"
      ],
      "execution_count": 0,
      "outputs": []
    },
    {
      "cell_type": "code",
      "metadata": {
        "id": "ZBEXtAIC8j0W",
        "colab_type": "code",
        "colab": {}
      },
      "source": [
        "params = {\n",
        "    'lr': [0.05, 0.1],\n",
        "    'module__num_units': [10, 20, 30], # range from 10 to 50\n",
        "    'module__dropout': [0.1, 0.3], # range from 0.1 to 0.3\n",
        "    'optimizer__nesterov': [False, True],\n",
        "}"
      ],
      "execution_count": 0,
      "outputs": []
    },
    {
      "cell_type": "code",
      "metadata": {
        "id": "E3lT0R1681FF",
        "colab_type": "code",
        "colab": {}
      },
      "source": [
        "bs = BayesSearchCV(net, params, refit=False, cv=3, scoring='accuracy', \n",
        "                  verbose=0, n_jobs=1, n_iter=10, return_train_score=True)"
      ],
      "execution_count": 0,
      "outputs": []
    },
    {
      "cell_type": "code",
      "metadata": {
        "id": "jSoqTdZr8717",
        "colab_type": "code",
        "colab": {}
      },
      "source": [
        "bs.fit(X, y);"
      ],
      "execution_count": 0,
      "outputs": []
    },
    {
      "cell_type": "code",
      "metadata": {
        "id": "lcszRHhc8_qh",
        "colab_type": "code",
        "colab": {
          "base_uri": "https://localhost:8080/",
          "height": 261
        },
        "outputId": "f5ea4743-8783-4552-bc35-300a73b8cbf3"
      },
      "source": [
        "report(bs.cv_results_)"
      ],
      "execution_count": 31,
      "outputs": [
        {
          "output_type": "stream",
          "text": [
            "Model with rank: 0\n",
            "Mean validation score: 0.866 (std: 0.016)\n",
            "Parameters: {'lr': 0.08443659005255347, 'module__dropout': 0.1329029172663855, 'module__num_units': 20, 'optimizer__nesterov': False}\n",
            "\n",
            "Model with rank: 1\n",
            "Mean validation score: 0.864 (std: 0.021)\n",
            "Parameters: {'lr': 0.08294332604267257, 'module__dropout': 0.2614271555754777, 'module__num_units': 30, 'optimizer__nesterov': False}\n",
            "\n",
            "Model with rank: 2\n",
            "Mean validation score: 0.859 (std: 0.007)\n",
            "Parameters: {'lr': 0.06507418901415689, 'module__dropout': 0.15804617348500327, 'module__num_units': 20, 'optimizer__nesterov': True}\n",
            "\n"
          ],
          "name": "stdout"
        }
      ]
    }
  ]
}